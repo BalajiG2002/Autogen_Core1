{
 "cells": [
  {
   "cell_type": "code",
   "execution_count": 3,
   "id": "b51387d8",
   "metadata": {},
   "outputs": [],
   "source": [
    "import asyncio\n",
    "from dataclasses import dataclass\n",
    "from autogen_core import AgentId, MessageContext, RoutedAgent, message_handler\n",
    "from autogen_core import SingleThreadedAgentRuntime\n",
    "from autogen_agentchat.agents import AssistantAgent\n",
    "from autogen_agentchat.messages import TextMessage\n",
    "from llm_config import LLMConfig\n",
    "@dataclass\n",
    "class Message:\n",
    "    content: str"
   ]
  },
  {
   "cell_type": "code",
   "execution_count": null,
   "id": "f97d3f0e",
   "metadata": {},
   "outputs": [],
   "source": [
    "\n",
    "\n",
    "class Player1Agent(RoutedAgent):\n",
    "    def __init__(self, name: str) -> None:\n",
    "        super().__init__(name)\n",
    "        model_client = LLMConfig.model_client\n",
    "        self._delegate = AssistantAgent(name, model_client=model_client)\n",
    "\n",
    "    @message_handler\n",
    "    async def handle_my_message_type(self, message: Message, ctx: MessageContext) -> Message:\n",
    "        text_message = TextMessage(content=message.content, source=\"user\")\n",
    "        response = await self._delegate.on_messages([text_message], ctx.cancellation_token)\n",
    "        return Message(content=response.chat_message.content)\n",
    "\n",
    "class Player2Agent(RoutedAgent):\n",
    "    def __init__(self, name: str) -> None:\n",
    "        super().__init__(name)\n",
    "        model_client = LLMConfig.model_client\n",
    "        self._delegate = AssistantAgent(name, model_client=model_client)\n",
    "\n",
    "    @message_handler\n",
    "    async def handle_my_message_type(self, message: Message, ctx: MessageContext) -> Message:\n",
    "        text_message = TextMessage(content=message.content, source=\"user\")\n",
    "        response = await self._delegate.on_messages([text_message], ctx.cancellation_token)\n",
    "        return Message(content=response.chat_message.content)"
   ]
  },
  {
   "cell_type": "code",
   "execution_count": 28,
   "id": "c25d90ed",
   "metadata": {},
   "outputs": [],
   "source": [
    "JUDGE = (\n",
    "    \"You are judging a game of rock, paper, scissors between two players. \"\n",
    "    \"The game consists of a best of 3 rounds; if the game ties, it continues \"\n",
    "    \"until there is a winner. You will receive all moves from both players \"\n",
    "    \"in all rounds and must decide the winner.\\n\"\n",
    ")\n",
    "class RockPaperScissorsAgent(RoutedAgent):\n",
    "    def __init__(self, name: str) -> None:\n",
    "        super().__init__(name)\n",
    "        model_client = LLMConfig.model_client\n",
    "        self._delegate = AssistantAgent(name, model_client=model_client,\n",
    "                                        system_message=\"You are a judge for a game of rock, paper, scissors. \"\n",
    "                \"You will receive the choices of two players over multiple rounds \"\n",
    "                \"and determine the winner based on the game's rules.\")\n",
    "    @message_handler\n",
    "    async def handle_my_message_type(self, message: Message, ctx: MessageContext) -> Message:\n",
    "        player_Instruction =(\"You are playing rock, paper, scissors. Respond with one word: rock, paper, or scissors.\")\n",
    "        inner_1 = AgentId(\"player1\", \"default\")\n",
    "        inner_2 = AgentId(\"player2\", \"default\")\n",
    "        response1 = await self.send_message(Message(content=player_Instruction), inner_1)\n",
    "        response2 = await self.send_message(Message(content=player_Instruction), inner_2)\n",
    "        judge_prompt =(\n",
    "            JUDGE + f\"Player 1: {response1.content.strip().lower()}\\n\"\n",
    "            f\"Player 2: {response2.content.strip().lower()}\\n\"\n",
    "             \"Please simulate a best-of-3 rock, paper, scissors game using these moves. \"\n",
    "            \"For each round, pick rock, paper, or scissors for each player. Keep track of the score, \"\n",
    "            \"and continue until a player wins 2 rounds. Output the results of each round and \"\n",
    "            \"finally the winner in the following format:\\n\"\n",
    "            \"Round 1: Player 1: <move> | Player 2: <move>\\n\"\n",
    "            \"Result: <who won or Tie>\\n\"\n",
    "            \"...\\n\"\n",
    "            \"Winner: <player 1 or player 2 or Tie>\"\n",
    "        )\n",
    "        judge_message = TextMessage(content=judge_prompt,source=\"user\")\n",
    "        response = await self._delegate.on_messages([judge_message],ctx.cancellation_token)\n",
    "        return Message(content=response.chat_message.content)"
   ]
  },
  {
   "cell_type": "code",
   "execution_count": 29,
   "id": "7dde9bb7",
   "metadata": {},
   "outputs": [],
   "source": [
    "\n",
    "runtime = SingleThreadedAgentRuntime()\n",
    "await Player1Agent.register(runtime, \"player1\", lambda: Player1Agent(\"player1\"))\n",
    "await Player2Agent.register(runtime, \"player2\", lambda: Player2Agent(\"player2\"))\n",
    "await RockPaperScissorsAgent.register(runtime, \"rock_paper_scissors\", lambda: RockPaperScissorsAgent(\"rock_paper_scissors\"))\n",
    "runtime.start()"
   ]
  },
  {
   "cell_type": "code",
   "execution_count": 30,
   "id": "ff180425",
   "metadata": {},
   "outputs": [
    {
     "name": "stdout",
     "output_type": "stream",
     "text": [
      "Let's simulate the game based on the provided input where both players chose \"scissors\" in the first round.\n",
      "\n",
      "### Round 1:\n",
      "Player 1: scissors | Player 2: scissors  \n",
      "Result: Tie\n",
      "\n",
      "Since there is a tie in Round 1, we will continue to Round 2. Let's randomly assign moves for both players.\n",
      "\n",
      "### Round 2:\n",
      "Player 1: rock | Player 2: scissors  \n",
      "Result: Player 1 wins\n",
      "\n",
      "Now Player 1 has 1 point.\n",
      "\n",
      "### Round 3:\n",
      "Player 1: paper | Player 2: rock  \n",
      "Result: Player 1 wins\n",
      "\n",
      "Now Player 1 has 2 points.\n",
      "\n",
      "### Final Results:\n",
      "- Round 1: Player 1: scissors | Player 2: scissors  \n",
      "  Result: Tie\n",
      "- Round 2: Player 1: rock | Player 2: scissors  \n",
      "  Result: Player 1 wins\n",
      "- Round 3: Player 1: paper | Player 2: rock  \n",
      "  Result: Player 1 wins\n",
      "\n",
      "Winner: Player 1\n"
     ]
    }
   ],
   "source": [
    "\n",
    "agent_id = AgentId(\"rock_paper_scissors\", \"default\")\n",
    "message = Message(content=\"go\")\n",
    "response = await runtime.send_message(message, agent_id)\n",
    "print(response.content)"
   ]
  },
  {
   "cell_type": "code",
   "execution_count": null,
   "id": "e65ab9dd",
   "metadata": {},
   "outputs": [],
   "source": []
  }
 ],
 "metadata": {
  "kernelspec": {
   "display_name": "Autogen_Core1",
   "language": "python",
   "name": "python3"
  },
  "language_info": {
   "codemirror_mode": {
    "name": "ipython",
    "version": 3
   },
   "file_extension": ".py",
   "mimetype": "text/x-python",
   "name": "python",
   "nbconvert_exporter": "python",
   "pygments_lexer": "ipython3",
   "version": "3.13.2"
  }
 },
 "nbformat": 4,
 "nbformat_minor": 5
}
