{
 "cells": [
  {
   "cell_type": "code",
   "execution_count": 40,
   "id": "f58afe8f",
   "metadata": {},
   "outputs": [],
   "source": [
    "import asyncio\n",
    "from dataclasses import dataclass\n",
    "from autogen_core import AgentId, MessageContext, RoutedAgent, message_handler\n",
    "from autogen_core import SingleThreadedAgentRuntime\n",
    "from autogen_agentchat.agents import AssistantAgent\n",
    "from autogen_agentchat.messages import TextMessage\n",
    "from llm_config import LLMConfig\n",
    "@dataclass\n",
    "class Message:\n",
    "    content: str"
   ]
  },
  {
   "cell_type": "code",
   "execution_count": 52,
   "id": "cfc8eaf5",
   "metadata": {},
   "outputs": [],
   "source": [
    "class SimpleAgent(RoutedAgent):\n",
    "    def __init__(self) -> None:\n",
    "        super().__init__(AgentId(\"simple_agent\", \"default\"), description=\"Simple agent\")\n",
    "        \n",
    "    @message_handler\n",
    "    async def handle_message(self, message: Message ,ctx:MessageContext) -> Message:\n",
    "        return Message(content=f\"this is {self.id.type}--{self.id.key}: you said{message.content}, i disagree with you\")\n"
   ]
  },
  {
   "cell_type": "code",
   "execution_count": 42,
   "id": "7142acf8",
   "metadata": {},
   "outputs": [
    {
     "data": {
      "text/plain": [
       "AgentType(type='simple_agent')"
      ]
     },
     "execution_count": 42,
     "metadata": {},
     "output_type": "execute_result"
    }
   ],
   "source": [
    "runtime = SingleThreadedAgentRuntime()\n",
    "await SimpleAgent.register(runtime,\"simple_agent\",lambda:SimpleAgent())\n"
   ]
  },
  {
   "cell_type": "code",
   "execution_count": 53,
   "id": "64de243d",
   "metadata": {},
   "outputs": [
    {
     "ename": "RuntimeError",
     "evalue": "Runtime is already started",
     "output_type": "error",
     "traceback": [
      "\u001b[31m---------------------------------------------------------------------------\u001b[39m",
      "\u001b[31mRuntimeError\u001b[39m                              Traceback (most recent call last)",
      "\u001b[36mCell\u001b[39m\u001b[36m \u001b[39m\u001b[32mIn[53]\u001b[39m\u001b[32m, line 1\u001b[39m\n\u001b[32m----> \u001b[39m\u001b[32m1\u001b[39m \u001b[43mruntime\u001b[49m\u001b[43m.\u001b[49m\u001b[43mstart\u001b[49m\u001b[43m(\u001b[49m\u001b[43m)\u001b[49m\n",
      "\u001b[36mFile \u001b[39m\u001b[32mc:\\Users\\BalajiGopi\\AgenticAI\\Autogen_Core1\\.venv\\Lib\\site-packages\\autogen_core\\_single_threaded_agent_runtime.py:820\u001b[39m, in \u001b[36mSingleThreadedAgentRuntime.start\u001b[39m\u001b[34m(self)\u001b[39m\n\u001b[32m    797\u001b[39m \u001b[38;5;250m\u001b[39m\u001b[33;03m\"\"\"Start the runtime message processing loop. This runs in a background task.\u001b[39;00m\n\u001b[32m    798\u001b[39m \n\u001b[32m    799\u001b[39m \u001b[33;03mExample:\u001b[39;00m\n\u001b[32m   (...)\u001b[39m\u001b[32m    817\u001b[39m \n\u001b[32m    818\u001b[39m \u001b[33;03m\"\"\"\u001b[39;00m\n\u001b[32m    819\u001b[39m \u001b[38;5;28;01mif\u001b[39;00m \u001b[38;5;28mself\u001b[39m._run_context \u001b[38;5;129;01mis\u001b[39;00m \u001b[38;5;129;01mnot\u001b[39;00m \u001b[38;5;28;01mNone\u001b[39;00m:\n\u001b[32m--> \u001b[39m\u001b[32m820\u001b[39m     \u001b[38;5;28;01mraise\u001b[39;00m \u001b[38;5;167;01mRuntimeError\u001b[39;00m(\u001b[33m\"\u001b[39m\u001b[33mRuntime is already started\u001b[39m\u001b[33m\"\u001b[39m)\n\u001b[32m    821\u001b[39m \u001b[38;5;28mself\u001b[39m._run_context = RunContext(\u001b[38;5;28mself\u001b[39m)\n",
      "\u001b[31mRuntimeError\u001b[39m: Runtime is already started"
     ]
    }
   ],
   "source": [
    "runtime.start()"
   ]
  },
  {
   "cell_type": "code",
   "execution_count": 54,
   "id": "232ee7b2",
   "metadata": {},
   "outputs": [
    {
     "ename": "TypeError",
     "evalue": "RoutedAgent.__init__() got multiple values for argument 'description'",
     "output_type": "error",
     "traceback": [
      "\u001b[31m---------------------------------------------------------------------------\u001b[39m",
      "\u001b[31mTypeError\u001b[39m                                 Traceback (most recent call last)",
      "\u001b[36mCell\u001b[39m\u001b[36m \u001b[39m\u001b[32mIn[54]\u001b[39m\u001b[32m, line 2\u001b[39m\n\u001b[32m      1\u001b[39m agent_id = AgentId(\u001b[33m\"\u001b[39m\u001b[33msimple_agent\u001b[39m\u001b[33m\"\u001b[39m, \u001b[33m\"\u001b[39m\u001b[33mdefault\u001b[39m\u001b[33m\"\u001b[39m)\n\u001b[32m----> \u001b[39m\u001b[32m2\u001b[39m response = \u001b[38;5;28;01mawait\u001b[39;00m runtime.send_message(Message(\u001b[33m\"\u001b[39m\u001b[33mWell hi there!\u001b[39m\u001b[33m\"\u001b[39m), agent_id)\n\u001b[32m      3\u001b[39m \u001b[38;5;28mprint\u001b[39m(\u001b[33m\"\u001b[39m\u001b[33m>>>\u001b[39m\u001b[33m\"\u001b[39m, response.content)\n",
      "\u001b[36mFile \u001b[39m\u001b[32mc:\\Users\\BalajiGopi\\AgenticAI\\Autogen_Core1\\.venv\\Lib\\site-packages\\autogen_core\\_single_threaded_agent_runtime.py:385\u001b[39m, in \u001b[36mSingleThreadedAgentRuntime.send_message\u001b[39m\u001b[34m(self, message, recipient, sender, cancellation_token, message_id)\u001b[39m\n\u001b[32m    371\u001b[39m \u001b[38;5;28;01mawait\u001b[39;00m \u001b[38;5;28mself\u001b[39m._message_queue.put(\n\u001b[32m    372\u001b[39m     SendMessageEnvelope(\n\u001b[32m    373\u001b[39m         message=message,\n\u001b[32m   (...)\u001b[39m\u001b[32m    380\u001b[39m     )\n\u001b[32m    381\u001b[39m )\n\u001b[32m    383\u001b[39m cancellation_token.link_future(future)\n\u001b[32m--> \u001b[39m\u001b[32m385\u001b[39m \u001b[38;5;28;01mreturn\u001b[39;00m \u001b[38;5;28;01mawait\u001b[39;00m future\n",
      "\u001b[36mFile \u001b[39m\u001b[32mc:\\Users\\BalajiGopi\\AgenticAI\\Autogen_Core1\\.venv\\Lib\\site-packages\\autogen_core\\_single_threaded_agent_runtime.py:487\u001b[39m, in \u001b[36mSingleThreadedAgentRuntime._process_send\u001b[39m\u001b[34m(self, message_envelope)\u001b[39m\n\u001b[32m    475\u001b[39m logger.info(\n\u001b[32m    476\u001b[39m     \u001b[33mf\u001b[39m\u001b[33m\"\u001b[39m\u001b[33mCalling message handler for \u001b[39m\u001b[38;5;132;01m{\u001b[39;00mrecipient\u001b[38;5;132;01m}\u001b[39;00m\u001b[33m with message type \u001b[39m\u001b[38;5;132;01m{\u001b[39;00m\u001b[38;5;28mtype\u001b[39m(message_envelope.message).\u001b[34m__name__\u001b[39m\u001b[38;5;132;01m}\u001b[39;00m\u001b[33m sent by \u001b[39m\u001b[38;5;132;01m{\u001b[39;00msender_id\u001b[38;5;132;01m}\u001b[39;00m\u001b[33m\"\u001b[39m\n\u001b[32m    477\u001b[39m )\n\u001b[32m    478\u001b[39m event_logger.info(\n\u001b[32m    479\u001b[39m     MessageEvent(\n\u001b[32m    480\u001b[39m         payload=\u001b[38;5;28mself\u001b[39m._try_serialize(message_envelope.message),\n\u001b[32m   (...)\u001b[39m\u001b[32m    485\u001b[39m     )\n\u001b[32m    486\u001b[39m )\n\u001b[32m--> \u001b[39m\u001b[32m487\u001b[39m recipient_agent = \u001b[38;5;28;01mawait\u001b[39;00m \u001b[38;5;28mself\u001b[39m._get_agent(recipient)\n\u001b[32m    489\u001b[39m message_context = MessageContext(\n\u001b[32m    490\u001b[39m     sender=message_envelope.sender,\n\u001b[32m    491\u001b[39m     topic_id=\u001b[38;5;28;01mNone\u001b[39;00m,\n\u001b[32m   (...)\u001b[39m\u001b[32m    494\u001b[39m     message_id=message_envelope.message_id,\n\u001b[32m    495\u001b[39m )\n\u001b[32m    496\u001b[39m \u001b[38;5;28;01mwith\u001b[39;00m \u001b[38;5;28mself\u001b[39m._tracer_helper.trace_block(\n\u001b[32m    497\u001b[39m     \u001b[33m\"\u001b[39m\u001b[33mprocess\u001b[39m\u001b[33m\"\u001b[39m,\n\u001b[32m    498\u001b[39m     recipient_agent.id,\n\u001b[32m   (...)\u001b[39m\u001b[32m    505\u001b[39m     ),\n\u001b[32m    506\u001b[39m ):\n",
      "\u001b[36mFile \u001b[39m\u001b[32mc:\\Users\\BalajiGopi\\AgenticAI\\Autogen_Core1\\.venv\\Lib\\site-packages\\autogen_core\\_single_threaded_agent_runtime.py:984\u001b[39m, in \u001b[36mSingleThreadedAgentRuntime._get_agent\u001b[39m\u001b[34m(self, agent_id)\u001b[39m\n\u001b[32m    981\u001b[39m     \u001b[38;5;28;01mraise\u001b[39;00m \u001b[38;5;167;01mLookupError\u001b[39;00m(\u001b[33mf\u001b[39m\u001b[33m\"\u001b[39m\u001b[33mAgent with name \u001b[39m\u001b[38;5;132;01m{\u001b[39;00magent_id.type\u001b[38;5;132;01m}\u001b[39;00m\u001b[33m not found.\u001b[39m\u001b[33m\"\u001b[39m)\n\u001b[32m    983\u001b[39m agent_factory = \u001b[38;5;28mself\u001b[39m._agent_factories[agent_id.type]\n\u001b[32m--> \u001b[39m\u001b[32m984\u001b[39m agent = \u001b[38;5;28;01mawait\u001b[39;00m \u001b[38;5;28mself\u001b[39m._invoke_agent_factory(agent_factory, agent_id)\n\u001b[32m    985\u001b[39m \u001b[38;5;28mself\u001b[39m._instantiated_agents[agent_id] = agent\n\u001b[32m    986\u001b[39m \u001b[38;5;28;01mreturn\u001b[39;00m agent\n",
      "\u001b[36mFile \u001b[39m\u001b[32mc:\\Users\\BalajiGopi\\AgenticAI\\Autogen_Core1\\.venv\\Lib\\site-packages\\autogen_core\\_single_threaded_agent_runtime.py:963\u001b[39m, in \u001b[36mSingleThreadedAgentRuntime._invoke_agent_factory\u001b[39m\u001b[34m(self, agent_factory, agent_id)\u001b[39m\n\u001b[32m    960\u001b[39m         \u001b[38;5;28;01mraise\u001b[39;00m \u001b[38;5;167;01mValueError\u001b[39;00m(\u001b[33m\"\u001b[39m\u001b[33mAgent factory must take 0 or 2 arguments.\u001b[39m\u001b[33m\"\u001b[39m)\n\u001b[32m    962\u001b[39m     \u001b[38;5;28;01mif\u001b[39;00m inspect.isawaitable(agent):\n\u001b[32m--> \u001b[39m\u001b[32m963\u001b[39m         agent = cast(T, \u001b[38;5;28;01mawait\u001b[39;00m agent)\n\u001b[32m    964\u001b[39m     \u001b[38;5;28;01mreturn\u001b[39;00m agent\n\u001b[32m    966\u001b[39m \u001b[38;5;28;01mexcept\u001b[39;00m \u001b[38;5;167;01mBaseException\u001b[39;00m \u001b[38;5;28;01mas\u001b[39;00m e:\n",
      "\u001b[36mFile \u001b[39m\u001b[32mc:\\Users\\BalajiGopi\\AgenticAI\\Autogen_Core1\\.venv\\Lib\\site-packages\\autogen_core\\_single_threaded_agent_runtime.py:900\u001b[39m, in \u001b[36mSingleThreadedAgentRuntime.register_factory.<locals>.factory_wrapper\u001b[39m\u001b[34m()\u001b[39m\n\u001b[32m    899\u001b[39m \u001b[38;5;28;01masync\u001b[39;00m \u001b[38;5;28;01mdef\u001b[39;00m\u001b[38;5;250m \u001b[39m\u001b[34mfactory_wrapper\u001b[39m() -> T:\n\u001b[32m--> \u001b[39m\u001b[32m900\u001b[39m     maybe_agent_instance = \u001b[43magent_factory\u001b[49m\u001b[43m(\u001b[49m\u001b[43m)\u001b[49m\n\u001b[32m    901\u001b[39m     \u001b[38;5;28;01mif\u001b[39;00m inspect.isawaitable(maybe_agent_instance):\n\u001b[32m    902\u001b[39m         agent_instance = \u001b[38;5;28;01mawait\u001b[39;00m maybe_agent_instance\n",
      "\u001b[36mCell\u001b[39m\u001b[36m \u001b[39m\u001b[32mIn[50]\u001b[39m\u001b[32m, line 4\u001b[39m, in \u001b[36m<lambda>\u001b[39m\u001b[34m()\u001b[39m\n\u001b[32m      1\u001b[39m \u001b[38;5;28;01mfrom\u001b[39;00m\u001b[38;5;250m \u001b[39m\u001b[34;01mautogen_core\u001b[39;00m\u001b[38;5;250m \u001b[39m\u001b[38;5;28;01mimport\u001b[39;00m SingleThreadedAgentRuntime\n\u001b[32m      3\u001b[39m runtime = SingleThreadedAgentRuntime()\n\u001b[32m----> \u001b[39m\u001b[32m4\u001b[39m \u001b[38;5;28;01mawait\u001b[39;00m SimpleAgent.register(runtime, \u001b[33m\"\u001b[39m\u001b[33msimple_agent\u001b[39m\u001b[33m\"\u001b[39m, \u001b[38;5;28;01mlambda\u001b[39;00m: \u001b[43mSimpleAgent\u001b[49m\u001b[43m(\u001b[49m\u001b[43m)\u001b[49m)\n\u001b[32m      5\u001b[39m \u001b[38;5;28;01mawait\u001b[39;00m MyLLMAgent.register(runtime, \u001b[33m\"\u001b[39m\u001b[33mLLMAgent\u001b[39m\u001b[33m\"\u001b[39m, \u001b[38;5;28;01mlambda\u001b[39;00m: MyLLMAgent())\n",
      "\u001b[36mCell\u001b[39m\u001b[36m \u001b[39m\u001b[32mIn[52]\u001b[39m\u001b[32m, line 3\u001b[39m, in \u001b[36mSimpleAgent.__init__\u001b[39m\u001b[34m(self)\u001b[39m\n\u001b[32m      2\u001b[39m \u001b[38;5;28;01mdef\u001b[39;00m\u001b[38;5;250m \u001b[39m\u001b[34m__init__\u001b[39m(\u001b[38;5;28mself\u001b[39m) -> \u001b[38;5;28;01mNone\u001b[39;00m:\n\u001b[32m----> \u001b[39m\u001b[32m3\u001b[39m     \u001b[38;5;28;43msuper\u001b[39;49m\u001b[43m(\u001b[49m\u001b[43m)\u001b[49m\u001b[43m.\u001b[49m\u001b[34;43m__init__\u001b[39;49m\u001b[43m(\u001b[49m\u001b[43mAgentId\u001b[49m\u001b[43m(\u001b[49m\u001b[33;43m\"\u001b[39;49m\u001b[33;43msimple_agent\u001b[39;49m\u001b[33;43m\"\u001b[39;49m\u001b[43m,\u001b[49m\u001b[43m \u001b[49m\u001b[33;43m\"\u001b[39;49m\u001b[33;43mdefault\u001b[39;49m\u001b[33;43m\"\u001b[39;49m\u001b[43m)\u001b[49m\u001b[43m,\u001b[49m\u001b[43m \u001b[49m\u001b[43mdescription\u001b[49m\u001b[43m=\u001b[49m\u001b[33;43m\"\u001b[39;49m\u001b[33;43mSimple agent\u001b[39;49m\u001b[33;43m\"\u001b[39;49m\u001b[43m)\u001b[49m\n",
      "\u001b[31mTypeError\u001b[39m: RoutedAgent.__init__() got multiple values for argument 'description'"
     ]
    }
   ],
   "source": [
    "\n",
    "agent_id = AgentId(\"simple_agent\", \"default\")\n",
    "response = await runtime.send_message(Message(\"Well hi there!\"), agent_id)\n",
    "print(\">>>\", response.content)"
   ]
  },
  {
   "cell_type": "code",
   "execution_count": 45,
   "id": "d15eda5e",
   "metadata": {},
   "outputs": [],
   "source": [
    "await runtime.stop()\n",
    "await runtime.close()"
   ]
  },
  {
   "cell_type": "code",
   "execution_count": null,
   "id": "65adea4b",
   "metadata": {},
   "outputs": [],
   "source": [
    "from autogen_core import CancellationToken\n",
    "\n",
    "\n",
    "class MyLLMAgent(RoutedAgent):\n",
    "    def __init__(self)->None:\n",
    "        super().__init__(AgentId(\"LLMAgent\", \"default\"), description=\"LLM agent\")\n",
    "        model_client = LLMConfig.model_client\n",
    "        self._delegate = AssistantAgent(\n",
    "            agent_id=AgentId(\"LLMAgent\", \"default\"),\n",
    "            model_client=model_client,\n",
    "            system_message=\"You are a helpful assistant.\",\n",
    "        )\n",
    "    @message_handler\n",
    "    async def handle_my_message_type(self, message: Message, ctx: MessageContext) -> Message:\n",
    "        print(f\"{self.id.type} received message: {message.content}\")\n",
    "        text_message = TextMessage(content=message.content, source=\"user\")\n",
    "        response = await self._delegate.on_messages([text_message], ctx.cancellation_token)\n",
    "        reply = response.chat_message.content\n",
    "        print(f\"{self.id.type} responded: {reply}\")\n",
    "        return Message(content=reply)\n"
   ]
  },
  {
   "cell_type": "code",
   "execution_count": 55,
   "id": "4dd55a94",
   "metadata": {},
   "outputs": [
    {
     "data": {
      "text/plain": [
       "AgentType(type='LLMAgent')"
      ]
     },
     "execution_count": 55,
     "metadata": {},
     "output_type": "execute_result"
    }
   ],
   "source": [
    "from autogen_core import SingleThreadedAgentRuntime\n",
    "\n",
    "runtime = SingleThreadedAgentRuntime()\n",
    "await SimpleAgent.register(runtime, \"simple_agent\", lambda: SimpleAgent())\n",
    "await MyLLMAgent.register(runtime, \"LLMAgent\", lambda: MyLLMAgent())"
   ]
  },
  {
   "cell_type": "code",
   "execution_count": null,
   "id": "4f6477c9",
   "metadata": {},
   "outputs": [
    {
     "ename": "RuntimeError",
     "evalue": "Runtime is already started",
     "output_type": "error",
     "traceback": [
      "\u001b[31m---------------------------------------------------------------------------\u001b[39m",
      "\u001b[31mRuntimeError\u001b[39m                              Traceback (most recent call last)",
      "\u001b[36mCell\u001b[39m\u001b[36m \u001b[39m\u001b[32mIn[57]\u001b[39m\u001b[32m, line 1\u001b[39m\n\u001b[32m----> \u001b[39m\u001b[32m1\u001b[39m \u001b[43mruntime\u001b[49m\u001b[43m.\u001b[49m\u001b[43mstart\u001b[49m\u001b[43m(\u001b[49m\u001b[43m)\u001b[49m  \u001b[38;5;66;03m# Start processing messages in the background.\u001b[39;00m\n\u001b[32m      2\u001b[39m response = \u001b[38;5;28;01mawait\u001b[39;00m runtime.send_message(Message(\u001b[33m\"\u001b[39m\u001b[33mHi there!\u001b[39m\u001b[33m\"\u001b[39m), AgentId(\u001b[33m\"\u001b[39m\u001b[33mLLMAgent\u001b[39m\u001b[33m\"\u001b[39m, \u001b[33m\"\u001b[39m\u001b[33mdefault\u001b[39m\u001b[33m\"\u001b[39m))\n\u001b[32m      3\u001b[39m \u001b[38;5;28mprint\u001b[39m(\u001b[33m\"\u001b[39m\u001b[33m>>>\u001b[39m\u001b[33m\"\u001b[39m, response.content)\n",
      "\u001b[36mFile \u001b[39m\u001b[32mc:\\Users\\BalajiGopi\\AgenticAI\\Autogen_Core1\\.venv\\Lib\\site-packages\\autogen_core\\_single_threaded_agent_runtime.py:820\u001b[39m, in \u001b[36mSingleThreadedAgentRuntime.start\u001b[39m\u001b[34m(self)\u001b[39m\n\u001b[32m    797\u001b[39m \u001b[38;5;250m\u001b[39m\u001b[33;03m\"\"\"Start the runtime message processing loop. This runs in a background task.\u001b[39;00m\n\u001b[32m    798\u001b[39m \n\u001b[32m    799\u001b[39m \u001b[33;03mExample:\u001b[39;00m\n\u001b[32m   (...)\u001b[39m\u001b[32m    817\u001b[39m \n\u001b[32m    818\u001b[39m \u001b[33;03m\"\"\"\u001b[39;00m\n\u001b[32m    819\u001b[39m \u001b[38;5;28;01mif\u001b[39;00m \u001b[38;5;28mself\u001b[39m._run_context \u001b[38;5;129;01mis\u001b[39;00m \u001b[38;5;129;01mnot\u001b[39;00m \u001b[38;5;28;01mNone\u001b[39;00m:\n\u001b[32m--> \u001b[39m\u001b[32m820\u001b[39m     \u001b[38;5;28;01mraise\u001b[39;00m \u001b[38;5;167;01mRuntimeError\u001b[39;00m(\u001b[33m\"\u001b[39m\u001b[33mRuntime is already started\u001b[39m\u001b[33m\"\u001b[39m)\n\u001b[32m    821\u001b[39m \u001b[38;5;28mself\u001b[39m._run_context = RunContext(\u001b[38;5;28mself\u001b[39m)\n",
      "\u001b[31mRuntimeError\u001b[39m: Runtime is already started"
     ]
    }
   ],
   "source": [
    "\n",
    "response = await runtime.send_message(Message(\"Hi there!\"), AgentId(\"LLMAgent\", \"default\"))\n",
    "print(\">>>\", response.content)\n",
    "response =  await runtime.send_message(Message(response.content), AgentId(\"simple_agent\", \"default\"))\n",
    "print(\">>>\", response.content)\n",
    "response = await runtime.send_message(Message(response.content), AgentId(\"LLMAgent\", \"default\"))"
   ]
  }
 ],
 "metadata": {
  "kernelspec": {
   "display_name": "Autogen_Core1",
   "language": "python",
   "name": "python3"
  },
  "language_info": {
   "codemirror_mode": {
    "name": "ipython",
    "version": 3
   },
   "file_extension": ".py",
   "mimetype": "text/x-python",
   "name": "python",
   "nbconvert_exporter": "python",
   "pygments_lexer": "ipython3",
   "version": "3.13.2"
  }
 },
 "nbformat": 4,
 "nbformat_minor": 5
}
